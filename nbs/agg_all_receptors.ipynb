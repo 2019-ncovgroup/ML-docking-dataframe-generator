{
 "cells": [
  {
   "cell_type": "markdown",
   "metadata": {},
   "source": [
    "# Histograms of docking scores"
   ]
  },
  {
   "cell_type": "code",
   "execution_count": 1,
   "metadata": {},
   "outputs": [
    {
     "name": "stdout",
     "output_type": "stream",
     "text": [
      "/vol/ml/apartin/projects/covid-19/ML-docking-dataframe-generator/nbs\n"
     ]
    }
   ],
   "source": [
    "%load_ext autoreload\n",
    "%autoreload 2\n",
    "%matplotlib inline\n",
    "\n",
    "import warnings\n",
    "warnings.filterwarnings('ignore')\n",
    "\n",
    "import os\n",
    "import sys\n",
    "from pathlib import Path\n",
    "from time import time\n",
    "import numpy as np\n",
    "import pandas as pd\n",
    "from glob import glob\n",
    "import matplotlib\n",
    "import matplotlib.pyplot as plt\n",
    "print(Path.cwd())"
   ]
  },
  {
   "cell_type": "code",
   "execution_count": 2,
   "metadata": {},
   "outputs": [],
   "source": [
    "datadir = Path('/vol/ml/apartin/projects/covid-19/ML-docking-dataframe-generator/out/V5.1-100K-random-dd-fps')\n",
    "rec_dirs = sorted(datadir.glob('*sorted.4col'))"
   ]
  },
  {
   "cell_type": "code",
   "execution_count": 4,
   "metadata": {},
   "outputs": [],
   "source": [
    "rec_dir = rec_dirs[0]\n",
    "fpath = sorted(rec_dir.glob('*sorted.4col.descriptors.parquet'))[0]\n",
    "df = pd.read_parquet(fpath)"
   ]
  },
  {
   "cell_type": "code",
   "execution_count": 4,
   "metadata": {},
   "outputs": [
    {
     "data": {
      "text/plain": [
       "[PosixPath('/vol/ml/apartin/projects/covid-19/ML-docking-dataframe-generator/out/V5.1-100K-flatten-dd-fps/DIR.ml.3CLPro_7BQY_A_1_F.Orderable_zinc_db_enaHLL.sorted.4col'),\n",
       " PosixPath('/vol/ml/apartin/projects/covid-19/ML-docking-dataframe-generator/out/V5.1-100K-flatten-dd-fps/DIR.ml.ADRP_6W02_A_1_H.Orderable_zinc_db_enaHLL.sorted.4col'),\n",
       " PosixPath('/vol/ml/apartin/projects/covid-19/ML-docking-dataframe-generator/out/V5.1-100K-flatten-dd-fps/DIR.ml.NPRBD_6VYO_AB_1_F.Orderable_zinc_db_enaHLL.sorted.4col'),\n",
       " PosixPath('/vol/ml/apartin/projects/covid-19/ML-docking-dataframe-generator/out/V5.1-100K-flatten-dd-fps/DIR.ml.NPRBD_6VYO_A_1_F.Orderable_zinc_db_enaHLL.sorted.4col'),\n",
       " PosixPath('/vol/ml/apartin/projects/covid-19/ML-docking-dataframe-generator/out/V5.1-100K-flatten-dd-fps/DIR.ml.NPRBD_6VYO_BC_1_F.Orderable_zinc_db_enaHLL.sorted.4col'),\n",
       " PosixPath('/vol/ml/apartin/projects/covid-19/ML-docking-dataframe-generator/out/V5.1-100K-flatten-dd-fps/DIR.ml.NPRBD_6VYO_CD_1_F.Orderable_zinc_db_enaHLL.sorted.4col'),\n",
       " PosixPath('/vol/ml/apartin/projects/covid-19/ML-docking-dataframe-generator/out/V5.1-100K-flatten-dd-fps/DIR.ml.NPRBD_6VYO_DA_1_F.Orderable_zinc_db_enaHLL.sorted.4col'),\n",
       " PosixPath('/vol/ml/apartin/projects/covid-19/ML-docking-dataframe-generator/out/V5.1-100K-flatten-dd-fps/DIR.ml.NSP10-16_6W61_AB_1_F.Orderable_zinc_db_enaHLL.sorted.4col'),\n",
       " PosixPath('/vol/ml/apartin/projects/covid-19/ML-docking-dataframe-generator/out/V5.1-100K-flatten-dd-fps/DIR.ml.NSP10-16_6W61_AB_2_F.Orderable_zinc_db_enaHLL.sorted.4col'),\n",
       " PosixPath('/vol/ml/apartin/projects/covid-19/ML-docking-dataframe-generator/out/V5.1-100K-flatten-dd-fps/DIR.ml.NSP10_6W61_B_1_F.Orderable_zinc_db_enaHLL.sorted.4col'),\n",
       " PosixPath('/vol/ml/apartin/projects/covid-19/ML-docking-dataframe-generator/out/V5.1-100K-flatten-dd-fps/DIR.ml.NSP15_6VWW_AB_1_F.Orderable_zinc_db_enaHLL.sorted.4col'),\n",
       " PosixPath('/vol/ml/apartin/projects/covid-19/ML-docking-dataframe-generator/out/V5.1-100K-flatten-dd-fps/DIR.ml.NSP15_6VWW_A_1_F.Orderable_zinc_db_enaHLL.sorted.4col'),\n",
       " PosixPath('/vol/ml/apartin/projects/covid-19/ML-docking-dataframe-generator/out/V5.1-100K-flatten-dd-fps/DIR.ml.NSP15_6VWW_A_2_F.Orderable_zinc_db_enaHLL.sorted.4col'),\n",
       " PosixPath('/vol/ml/apartin/projects/covid-19/ML-docking-dataframe-generator/out/V5.1-100K-flatten-dd-fps/DIR.ml.NSP15_6W01_AB_1_F.Orderable_zinc_db_enaHLL.sorted.4col'),\n",
       " PosixPath('/vol/ml/apartin/projects/covid-19/ML-docking-dataframe-generator/out/V5.1-100K-flatten-dd-fps/DIR.ml.NSP15_6W01_A_1_F.Orderable_zinc_db_enaHLL.sorted.4col'),\n",
       " PosixPath('/vol/ml/apartin/projects/covid-19/ML-docking-dataframe-generator/out/V5.1-100K-flatten-dd-fps/DIR.ml.NSP15_6W01_A_2_F.Orderable_zinc_db_enaHLL.sorted.4col'),\n",
       " PosixPath('/vol/ml/apartin/projects/covid-19/ML-docking-dataframe-generator/out/V5.1-100K-flatten-dd-fps/DIR.ml.NSP15_6W01_A_3_H.Orderable_zinc_db_enaHLL.sorted.4col'),\n",
       " PosixPath('/vol/ml/apartin/projects/covid-19/ML-docking-dataframe-generator/out/V5.1-100K-flatten-dd-fps/DIR.ml.NSP16_6W61_A_1_H.Orderable_zinc_db_enaHLL.sorted.4col'),\n",
       " PosixPath('/vol/ml/apartin/projects/covid-19/ML-docking-dataframe-generator/out/V5.1-100K-flatten-dd-fps/DIR.ml.Nsp13.helicase_m1_pocket2.Orderable_zinc_db_enaHLL.sorted.4col'),\n",
       " PosixPath('/vol/ml/apartin/projects/covid-19/ML-docking-dataframe-generator/out/V5.1-100K-flatten-dd-fps/DIR.ml.Nsp13.helicase_m3_pocket2.Orderable_zinc_db_enaHLL.sorted.4col'),\n",
       " PosixPath('/vol/ml/apartin/projects/covid-19/ML-docking-dataframe-generator/out/V5.1-100K-flatten-dd-fps/DIR.ml.PLPro_6W9C_A_2_F.Orderable_zinc_db_enaHLL.sorted.4col'),\n",
       " PosixPath('/vol/ml/apartin/projects/covid-19/ML-docking-dataframe-generator/out/V5.1-100K-flatten-dd-fps/DIR.ml.RDRP_6M71_A_2_F.Orderable_zinc_db_enaHLL.sorted.4col'),\n",
       " PosixPath('/vol/ml/apartin/projects/covid-19/ML-docking-dataframe-generator/out/V5.1-100K-flatten-dd-fps/DIR.ml.RDRP_6M71_A_3_F.Orderable_zinc_db_enaHLL.sorted.4col'),\n",
       " PosixPath('/vol/ml/apartin/projects/covid-19/ML-docking-dataframe-generator/out/V5.1-100K-flatten-dd-fps/DIR.ml.RDRP_6M71_A_4_F.Orderable_zinc_db_enaHLL.sorted.4col'),\n",
       " PosixPath('/vol/ml/apartin/projects/covid-19/ML-docking-dataframe-generator/out/V5.1-100K-flatten-dd-fps/DIR.ml.RDRP_7BV1_A_1_F.Orderable_zinc_db_enaHLL.sorted.4col'),\n",
       " PosixPath('/vol/ml/apartin/projects/covid-19/ML-docking-dataframe-generator/out/V5.1-100K-flatten-dd-fps/DIR.ml.RDRP_7BV1_A_2_F.Orderable_zinc_db_enaHLL.sorted.4col'),\n",
       " PosixPath('/vol/ml/apartin/projects/covid-19/ML-docking-dataframe-generator/out/V5.1-100K-flatten-dd-fps/DIR.ml.RDRP_7BV1_A_3_F.Orderable_zinc_db_enaHLL.sorted.4col'),\n",
       " PosixPath('/vol/ml/apartin/projects/covid-19/ML-docking-dataframe-generator/out/V5.1-100K-flatten-dd-fps/DIR.ml.RDRP_7BV1_A_4_F.Orderable_zinc_db_enaHLL.sorted.4col'),\n",
       " PosixPath('/vol/ml/apartin/projects/covid-19/ML-docking-dataframe-generator/out/V5.1-100K-flatten-dd-fps/DIR.ml.RDRP_7BV2_A_1_F.Orderable_zinc_db_enaHLL.sorted.4col'),\n",
       " PosixPath('/vol/ml/apartin/projects/covid-19/ML-docking-dataframe-generator/out/V5.1-100K-flatten-dd-fps/DIR.ml.RDRP_7BV2_A_2_F.Orderable_zinc_db_enaHLL.sorted.4col'),\n",
       " PosixPath('/vol/ml/apartin/projects/covid-19/ML-docking-dataframe-generator/out/V5.1-100K-flatten-dd-fps/DIR.ml.RDRP_7BV2_A_3_F.Orderable_zinc_db_enaHLL.sorted.4col')]"
      ]
     },
     "execution_count": 4,
     "metadata": {},
     "output_type": "execute_result"
    }
   ],
   "source": [
    "dfs = []\n",
    "for rec_dir in rec_dirs:\n",
    "    fpath = sorted(rec_dir.glob('*sorted.4col.descriptors.parquet'))[0]\n",
    "    df = pd.read_parquet(fpath)\n",
    "    "
   ]
  },
  {
   "cell_type": "code",
   "execution_count": null,
   "metadata": {},
   "outputs": [],
   "source": []
  }
 ],
 "metadata": {
  "kernelspec": {
   "display_name": "Python 3",
   "language": "python",
   "name": "python3"
  },
  "language_info": {
   "codemirror_mode": {
    "name": "ipython",
    "version": 3
   },
   "file_extension": ".py",
   "mimetype": "text/x-python",
   "name": "python",
   "nbconvert_exporter": "python",
   "pygments_lexer": "ipython3",
   "version": "3.6.10"
  }
 },
 "nbformat": 4,
 "nbformat_minor": 4
}
