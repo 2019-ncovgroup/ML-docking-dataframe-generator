{
 "cells": [
  {
   "cell_type": "markdown",
   "metadata": {},
   "source": [
    "# Histograms of docking scores"
   ]
  },
  {
   "cell_type": "code",
   "execution_count": 1,
   "metadata": {},
   "outputs": [
    {
     "name": "stdout",
     "output_type": "stream",
     "text": [
      "/vol/ml/apartin/projects/covid-19/ML-docking-dataframe-generator/nbs\n"
     ]
    }
   ],
   "source": [
    "%load_ext autoreload\n",
    "%autoreload 2\n",
    "%matplotlib inline\n",
    "\n",
    "import warnings\n",
    "warnings.filterwarnings('ignore')\n",
    "\n",
    "import os\n",
    "import sys\n",
    "from pathlib import Path\n",
    "from time import time\n",
    "import numpy as np\n",
    "import pandas as pd\n",
    "from glob import glob\n",
    "import matplotlib\n",
    "import matplotlib.pyplot as plt\n",
    "print(Path.cwd())"
   ]
  },
  {
   "cell_type": "code",
   "execution_count": 2,
   "metadata": {},
   "outputs": [
    {
     "data": {
      "text/plain": [
       "35"
      ]
     },
     "execution_count": 2,
     "metadata": {},
     "output_type": "execute_result"
    }
   ],
   "source": [
    "datadir = Path('../data/raw/dock-2020-06-01/OZD')\n",
    "outfigs = Path('../data/raw/dock-2020-06-01/OZD-hist')\n",
    "os.makedirs(outfigs, exist_ok=True)\n",
    "files = sorted(datadir.glob('*4col.csv'))\n",
    "len(files)"
   ]
  },
  {
   "cell_type": "code",
   "execution_count": 3,
   "metadata": {},
   "outputs": [],
   "source": [
    "def save_hist(dd_trg, trg_name, score_name='reg'):\n",
    "    dd_trg = dd_trg[ ~dd_trg[score_name].isna() ].reset_index(drop=True)\n",
    "    dd_trg[score_name] = abs( np.clip(dd_trg[score_name], a_min=None, a_max=0) )\n",
    "\n",
    "    q_cls=0.025\n",
    "    cls_th = dd_trg[score_name].quantile(q=q_cls)\n",
    "\n",
    "    bins = 50\n",
    "    hist, bin_edges = np.histogram(dd_trg[score_name], bins=bins)\n",
    "    x = np.ones((10,)) * cls_th\n",
    "    y = np.linspace(0, hist.max(), len(x))\n",
    "\n",
    "    fig, ax = plt.subplots()\n",
    "    plt.hist(dd_trg[score_name], bins=bins, density=False, facecolor='b', alpha=0.5)\n",
    "    plt.title(f'Scores Clipped to 0: {trg_name}');\n",
    "    plt.ylabel('Count'); plt.xlabel('Docking Score');\n",
    "    plt.plot(x, y, 'r--', alpha=0.7, label=f'{q_cls}-th quantile')\n",
    "    plt.grid(True)\n",
    "    plt.savefig(outfigs/f'dock.score.{trg_name}.png');"
   ]
  },
  {
   "cell_type": "code",
   "execution_count": 4,
   "metadata": {},
   "outputs": [],
   "source": [
    "def cast_to_float(x, float_format=np.float64):\n",
    "    try:\n",
    "        x = np.float64(x)\n",
    "    except:\n",
    "        print(\"Could not cast the value to numeric: {}\".format(x))\n",
    "        x = np.nan\n",
    "    return x"
   ]
  },
  {
   "cell_type": "code",
   "execution_count": 5,
   "metadata": {},
   "outputs": [
    {
     "name": "stdout",
     "output_type": "stream",
     "text": [
      "(6109329, 4)\n"
     ]
    }
   ],
   "source": [
    "dock = pd.read_csv(files[0])\n",
    "print(dock.shape)"
   ]
  },
  {
   "cell_type": "code",
   "execution_count": 6,
   "metadata": {},
   "outputs": [],
   "source": [
    "# fea_df = pd.read_parquet('/vol/ml/apartin/projects/covid-19/ML-docking-dataframe-generator/data/raw/features/fea-subsets-hpc/descriptors/dd_fea.parquet')\n",
    "# print(fea_df.shape)"
   ]
  },
  {
   "cell_type": "code",
   "execution_count": 7,
   "metadata": {},
   "outputs": [],
   "source": [
    "score_name = 'reg'\n",
    "dock = dock.rename(columns={'Chemgauss4': score_name}) \n",
    "dock = dock[ ~dock[score_name].isna() ].reset_index(drop=True)\n",
    "dock[score_name] = abs( np.clip(dock[score_name], a_min=None, a_max=0) )\n",
    "\n",
    "# bins = 50\n",
    "dock = dock.sort_values('reg', ascending=False).reset_index(drop=True)"
   ]
  },
  {
   "cell_type": "code",
   "execution_count": 8,
   "metadata": {},
   "outputs": [],
   "source": [
    "n_samples = int(100e3)\n",
    "# n_samples = int(1e6)\n",
    "# n_samples = int(20e3)\n",
    "\n",
    "n_top = int(10e3)\n",
    "n_bot = n_samples - n_top"
   ]
  },
  {
   "cell_type": "code",
   "execution_count": 9,
   "metadata": {},
   "outputs": [
    {
     "name": "stdout",
     "output_type": "stream",
     "text": [
      "(10000, 4)\n",
      "(6099328, 4)\n"
     ]
    }
   ],
   "source": [
    "# dock = dock.sort_values('reg').reset_index(drop=True)\n",
    "df_top  = dock[:n_top].reset_index(drop=True)\n",
    "df_rest = dock[n_top:].reset_index(drop=True) # sorted, index reset\n",
    "\n",
    "# df_bot = df_rest.sample(n=n_bot, random_state=10)\n",
    "# dd = pd.concat([df_top, df_bot], axis=0).reset_index(drop=True)\n",
    "print(df_top.shape)\n",
    "print(df_rest.shape)\n",
    "# print(df_bot.shape)\n",
    "# print(dd.shape)"
   ]
  },
  {
   "cell_type": "code",
   "execution_count": 10,
   "metadata": {},
   "outputs": [],
   "source": [
    "# # method 1\n",
    "# n_bins = 100\n",
    "# bins = np.quantile(df_rest['reg'].values, np.linspace(0, 1, n_bins+1))\n",
    "# df_rest['bins'] = pd.cut(df_rest['reg'].values, bins, precision=5, include_lowest=True)\n",
    "# print(df_rest['bins'].nunique())"
   ]
  },
  {
   "cell_type": "code",
   "execution_count": 11,
   "metadata": {},
   "outputs": [],
   "source": [
    "## method 2\n",
    "# n_bins = 10000\n",
    "# bins = [int(i) for i in np.linspace(0, df_rest.shape[0], n_bins+1)]\n",
    "# df_rest['bins'] = pd.cut(df_rest.index.values, bins, precision=5, include_lowest=True)\n",
    "# len(bins)"
   ]
  },
  {
   "cell_type": "code",
   "execution_count": 56,
   "metadata": {},
   "outputs": [
    {
     "name": "stdout",
     "output_type": "stream",
     "text": [
      "96\n"
     ]
    }
   ],
   "source": [
    "# method 3\n",
    "n_bins = 100\n",
    "bins = np.linspace(0, df_rest['reg'].max(), n_bins+1)\n",
    "# print(len(np.unique(bins)))\n",
    "# print( np.unique(bins[1:] - bins[:-1]) )\n",
    "df_rest['bin'] = pd.cut(df_rest['reg'].values, bins, precision=5, include_lowest=True)\n",
    "print(df_rest['bin'].nunique())"
   ]
  },
  {
   "cell_type": "code",
   "execution_count": 57,
   "metadata": {},
   "outputs": [
    {
     "name": "stdout",
     "output_type": "stream",
     "text": [
      "[(11.65407, 11.77179], (11.53636, 11.65407], (11.41864, 11.53636]]\n",
      "Categories (96, interval[float64]): [(-1e-05, 0.11772] < (0.11772, 0.23544] < (0.70631, 0.82403] < (0.82403, 0.94174] ... (11.30092, 11.41864] < (11.41864, 11.53636] < (11.53636, 11.65407] < (11.65407, 11.77179]]\n"
     ]
    }
   ],
   "source": [
    "print(df_rest['bin'].unique()[:3])\n",
    "# [b.right-b.left for b in df_rest['bin'].unique()]"
   ]
  },
  {
   "cell_type": "code",
   "execution_count": 59,
   "metadata": {},
   "outputs": [
    {
     "name": "stdout",
     "output_type": "stream",
     "text": [
      "(100, 2)\n"
     ]
    },
    {
     "data": {
      "text/html": [
       "<div>\n",
       "<style scoped>\n",
       "    .dataframe tbody tr th:only-of-type {\n",
       "        vertical-align: middle;\n",
       "    }\n",
       "\n",
       "    .dataframe tbody tr th {\n",
       "        vertical-align: top;\n",
       "    }\n",
       "\n",
       "    .dataframe thead th {\n",
       "        text-align: right;\n",
       "    }\n",
       "</style>\n",
       "<table border=\"1\" class=\"dataframe\">\n",
       "  <thead>\n",
       "    <tr style=\"text-align: right;\">\n",
       "      <th></th>\n",
       "      <th>bin</th>\n",
       "      <th>count</th>\n",
       "    </tr>\n",
       "  </thead>\n",
       "  <tbody>\n",
       "    <tr>\n",
       "      <th>0</th>\n",
       "      <td>(0.23544, 0.35315]</td>\n",
       "      <td>0</td>\n",
       "    </tr>\n",
       "    <tr>\n",
       "      <th>1</th>\n",
       "      <td>(0.35315, 0.47087]</td>\n",
       "      <td>0</td>\n",
       "    </tr>\n",
       "    <tr>\n",
       "      <th>2</th>\n",
       "      <td>(0.47087, 0.58859]</td>\n",
       "      <td>0</td>\n",
       "    </tr>\n",
       "    <tr>\n",
       "      <th>3</th>\n",
       "      <td>(0.58859, 0.70631]</td>\n",
       "      <td>0</td>\n",
       "    </tr>\n",
       "  </tbody>\n",
       "</table>\n",
       "</div>"
      ],
      "text/plain": [
       "                  bin  count\n",
       "0  (0.23544, 0.35315]      0\n",
       "1  (0.35315, 0.47087]      0\n",
       "2  (0.47087, 0.58859]      0\n",
       "3  (0.58859, 0.70631]      0"
      ]
     },
     "metadata": {},
     "output_type": "display_data"
    }
   ],
   "source": [
    "# Create count for the bins and sort\n",
    "df_rest['count'] = 1\n",
    "ref = df_rest.groupby(['bin']).agg({'count': sum}).reset_index()\n",
    "ref = ref.sort_values('count').reset_index(drop=True)\n",
    "print(ref.shape)\n",
    "display(ref[:4])"
   ]
  },
  {
   "cell_type": "code",
   "execution_count": null,
   "metadata": {},
   "outputs": [],
   "source": [
    "ref"
   ]
  },
  {
   "cell_type": "code",
   "execution_count": 60,
   "metadata": {},
   "outputs": [
    {
     "name": "stdout",
     "output_type": "stream",
     "text": [
      "n_bot:     90000\n",
      "n_bins:    100\n",
      "n_per_bin: 900\n"
     ]
    }
   ],
   "source": [
    "n_bins = len(ref)\n",
    "n_per_bin = int(n_bot/n_bins)\n",
    "print('n_bot:    ', n_bot)\n",
    "print('n_bins:   ', n_bins)\n",
    "print('n_per_bin:', n_per_bin)"
   ]
  },
  {
   "cell_type": "code",
   "execution_count": 65,
   "metadata": {},
   "outputs": [],
   "source": [
    "n_bins_ = n_bins\n",
    "n_bot_ = n_bot\n",
    "n_per_bin_ = n_per_bin\n",
    "del n_bins, n_bot, n_per_bin\n",
    "\n",
    "indices = []\n",
    "for r in range(ref.shape[0]):\n",
    "# for r in range(12):    \n",
    "    b = ref.loc[r,'bin']   # the bin interval\n",
    "    c = ref.loc[r,'count'] # count in the bin\n",
    "    if c==0:\n",
    "        # print('Sec 1: row: {}, count: {}, bin: {}'.format(r, c, b))\n",
    "        # print('   Empty bin!')\n",
    "        n_bot_ = n_bot_ # same since we didn't collect samples\n",
    "        n_bins_ = n_bins_ - 1 # less bins by 1\n",
    "        n_per_bin_ = int(n_bot_/n_bins_) # update ratio\n",
    "        # continue\n",
    "    elif n_per_bin_ > c:\n",
    "        # print('Sec 2: row: {}, count: {}, bin: {}'.format(r, c, b))\n",
    "        idx = df_rest['bin']==b\n",
    "        idx = df_rest.index.values[idx]\n",
    "        indices.extend(idx) # collect all samples in this bin\n",
    "        \n",
    "        n_bot_ = n_bot_ - len(idx) # less samples left\n",
    "        n_bins_ = n_bins_ - 1 # less bins by 1\n",
    "        n_per_bin_ = int(n_bot_/n_bins_) # update ratio\n",
    "    else:\n",
    "        # print('Sec 3: row: {}, count: {}, bin: {}'.format(r, c, b))\n",
    "        # print('   n_bot_:    ', n_bot_)\n",
    "        # print('   n_bins_:   ', n_bins_)\n",
    "        # print('   n_per_bin_:', n_per_bin_)\n",
    "        idx = df_rest['bin']==b\n",
    "        idx = df_rest.index.values[idx]\n",
    "        indices.extend( np.random.choice(idx, size=n_per_bin_) ) # sample indices\n",
    "\n",
    "df_bot = df_rest.loc[indices, :].reset_index(drop=True)        "
   ]
  },
  {
   "cell_type": "code",
   "execution_count": 66,
   "metadata": {},
   "outputs": [],
   "source": [
    "# print('n_bot:    ', n_bot)\n",
    "# print('n_bins:   ', n_bins)\n",
    "# print('n_per_bin:', n_per_bin)"
   ]
  },
  {
   "cell_type": "code",
   "execution_count": 67,
   "metadata": {},
   "outputs": [
    {
     "name": "stdout",
     "output_type": "stream",
     "text": [
      "n_bot_:     84488\n",
      "n_bins_:    57\n",
      "n_per_bin_: 1482\n"
     ]
    }
   ],
   "source": [
    "print('n_bot_:    ', n_bot_)\n",
    "print('n_bins_:   ', n_bins_)\n",
    "print('n_per_bin_:', n_per_bin_)"
   ]
  },
  {
   "cell_type": "code",
   "execution_count": 68,
   "metadata": {},
   "outputs": [
    {
     "data": {
      "image/png": "[encoded data removed]",
      "text/plain": [
       "<Figure size 432x288 with 1 Axes>"
      ]
     },
     "metadata": {
      "needs_background": "light"
     },
     "output_type": "display_data"
    }
   ],
   "source": [
    "df_bot['reg'].hist(bins=70);"
   ]
  },
  {
   "cell_type": "code",
   "execution_count": 69,
   "metadata": {},
   "outputs": [],
   "source": [
    "aa = pd.concat([df_top, df_bot], axis=0).reset_index(drop=True)\n",
    "print(aa.shape)"
   ]
  },
  {
   "cell_type": "code",
   "execution_count": 82,
   "metadata": {},
   "outputs": [
    {
     "data": {
      "image/png": "[encoded data removed]",
      "text/plain": [
       "<Figure size 432x288 with 1 Axes>"
      ]
     },
     "metadata": {
      "needs_background": "light"
     },
     "output_type": "display_data"
    }
   ],
   "source": [
    "fig, ax = plt.subplots()\n",
    "# ax.hist(df_bot[score_name], bins=50, facecolor='b', alpha=0.7);\n",
    "# ax.hist(df_top[score_name], bins=50, facecolor='r', alpha=0.7);\n",
    "ax.hist(df_bot[score_name], bins=50, facecolor='b', alpha=0.7, label='The rest (balanced)');\n",
    "ax.hist(df_top[score_name], bins=50, facecolor='r', alpha=0.7, label='Top dockers');\n",
    "plt.grid(True)\n",
    "# plt.legend(frameon=False, shadow=False, loc='best', framealpha=0.5)\n",
    "plt.legend(loc='best', framealpha=0.5)\n",
    "plt.title(f'Samples {n_samples}; n_top {n_top}');"
   ]
  },
  {
   "cell_type": "code",
   "execution_count": null,
   "metadata": {},
   "outputs": [],
   "source": []
  },
  {
   "cell_type": "code",
   "execution_count": null,
   "metadata": {},
   "outputs": [],
   "source": []
  }
 ],
 "metadata": {
  "kernelspec": {
   "display_name": "Python 3",
   "language": "python",
   "name": "python3"
  },
  "language_info": {
   "codemirror_mode": {
    "name": "ipython",
    "version": 3
   },
   "file_extension": ".py",
   "mimetype": "text/x-python",
   "name": "python",
   "nbconvert_exporter": "python",
   "pygments_lexer": "ipython3",
   "version": "3.7.6"
  }
 },
 "nbformat": 4,
 "nbformat_minor": 4
}
