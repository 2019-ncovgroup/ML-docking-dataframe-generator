{
 "cells": [
  {
   "cell_type": "markdown",
   "metadata": {},
   "source": [
    "# Histograms of docking scores"
   ]
  },
  {
   "cell_type": "code",
   "execution_count": 1,
   "metadata": {},
   "outputs": [
    {
     "name": "stdout",
     "output_type": "stream",
     "text": [
      "/vol/ml/apartin/projects/covid-19/ML-docking-dataframe-generator/nbs\n"
     ]
    }
   ],
   "source": [
    "%load_ext autoreload\n",
    "%autoreload 2\n",
    "%matplotlib inline\n",
    "\n",
    "import warnings\n",
    "warnings.filterwarnings('ignore')\n",
    "\n",
    "import os\n",
    "import sys\n",
    "from pathlib import Path\n",
    "from time import time\n",
    "import numpy as np\n",
    "import pandas as pd\n",
    "from glob import glob\n",
    "import matplotlib\n",
    "import matplotlib.pyplot as plt\n",
    "print(Path.cwd())\n",
    "\n",
    "os.sys.path.append('../src')\n",
    "from utils.utils import load_data, get_print_func, cast_to_float\n",
    "from utils.resample import flatten_dist"
   ]
  },
  {
   "cell_type": "code",
   "execution_count": 2,
   "metadata": {},
   "outputs": [],
   "source": [
    "def plot_hist_dock_scores(df, subdir_name, scoring_func='Chemgauss4'):\n",
    "    \"\"\" ... \"\"\"\n",
    "    outfigs_dir = outfigs/subdir_name\n",
    "    os.makedirs(outfigs_dir, exist_ok=True)\n",
    "    fig, ax = plt.subplots()\n",
    "    ax.hist(df[score_name], bins=100, facecolor='b', alpha=0.7);\n",
    "    ax.set_xlabel(f'Docking Score ({scoring_func})')\n",
    "    ax.set_ylabel('Count')\n",
    "    plt.grid(True)\n",
    "    plt.title(f'{subdir_name}; Samples {len(df)}')\n",
    "    plt.tight_layout()\n",
    "    plt.savefig(outfigs_dir/f'dock.dist.{trg_name}.png')"
   ]
  },
  {
   "cell_type": "code",
   "execution_count": null,
   "metadata": {},
   "outputs": [],
   "source": []
  },
  {
   "cell_type": "code",
   "execution_count": 3,
   "metadata": {},
   "outputs": [
    {
     "name": "stdout",
     "output_type": "stream",
     "text": [
      "35\n"
     ]
    }
   ],
   "source": [
    "datadir = Path('/vol/ml/apartin/projects/covid-19/ML-docking-dataframe-generator/data/raw/docking/V5.1/OZD')\n",
    "files = sorted(datadir.glob('*.sorted.4col.csv'))\n",
    "print(len(files))\n",
    "\n",
    "outfigs = Path('../paper')\n",
    "os.makedirs(outfigs, exist_ok=True)"
   ]
  },
  {
   "cell_type": "code",
   "execution_count": 4,
   "metadata": {},
   "outputs": [
    {
     "name": "stdout",
     "output_type": "stream",
     "text": [
      "(6109329, 4)\n"
     ]
    },
    {
     "data": {
      "text/html": [
       "<div>\n",
       "<style scoped>\n",
       "    .dataframe tbody tr th:only-of-type {\n",
       "        vertical-align: middle;\n",
       "    }\n",
       "\n",
       "    .dataframe tbody tr th {\n",
       "        vertical-align: top;\n",
       "    }\n",
       "\n",
       "    .dataframe thead th {\n",
       "        text-align: right;\n",
       "    }\n",
       "</style>\n",
       "<table border=\"1\" class=\"dataframe\">\n",
       "  <thead>\n",
       "    <tr style=\"text-align: right;\">\n",
       "      <th></th>\n",
       "      <th>Inchi-key</th>\n",
       "      <th>SMILES</th>\n",
       "      <th>TITLE</th>\n",
       "      <th>Chemgauss4</th>\n",
       "    </tr>\n",
       "  </thead>\n",
       "  <tbody>\n",
       "    <tr>\n",
       "      <th>0</th>\n",
       "      <td>MQQAVNHQRUNOBV-SDHOMARFSA-P</td>\n",
       "      <td>Cc1ccc(cc1)[C@@H]2C[N@@H+]([C@@H]3[C@H]2N4CCC3...</td>\n",
       "      <td>ZINC000095370606</td>\n",
       "      <td>-15.272850</td>\n",
       "    </tr>\n",
       "    <tr>\n",
       "      <th>1</th>\n",
       "      <td>DGLCKPUNCXSIDP-UHFFFAOYSA-P</td>\n",
       "      <td>c1ccc(cc1)N2CC[NH+](CC2)C/C(=[NH+]/OCC(=O)NCc3...</td>\n",
       "      <td>ZINC000040149497</td>\n",
       "      <td>-14.439569</td>\n",
       "    </tr>\n",
       "  </tbody>\n",
       "</table>\n",
       "</div>"
      ],
      "text/plain": [
       "                     Inchi-key  \\\n",
       "0  MQQAVNHQRUNOBV-SDHOMARFSA-P   \n",
       "1  DGLCKPUNCXSIDP-UHFFFAOYSA-P   \n",
       "\n",
       "                                              SMILES             TITLE  \\\n",
       "0  Cc1ccc(cc1)[C@@H]2C[N@@H+]([C@@H]3[C@H]2N4CCC3...  ZINC000095370606   \n",
       "1  c1ccc(cc1)N2CC[NH+](CC2)C/C(=[NH+]/OCC(=O)NCc3...  ZINC000040149497   \n",
       "\n",
       "   Chemgauss4  \n",
       "0  -15.272850  \n",
       "1  -14.439569  "
      ]
     },
     "metadata": {},
     "output_type": "display_data"
    }
   ],
   "source": [
    "# Load: All, Raw\n",
    "dpath = files[0]\n",
    "dock = pd.read_csv(dpath)\n",
    "print(dock.shape)\n",
    "display(dock[:2])"
   ]
  },
  {
   "cell_type": "code",
   "execution_count": 5,
   "metadata": {},
   "outputs": [],
   "source": [
    "score_name = 'reg'\n",
    "ID = 'TITLE'\n",
    "trg_name = dpath.name\n",
    "\n",
    "scoring_func = 'Chemgauss4'\n",
    "dock = dock.rename(columns={scoring_func: score_name})  # note! Chemgauss4 might be different\n",
    "dock = dock[ dock[ID].notna() ].reset_index(drop=True)  # drop TITLE==nan\n",
    "dock[score_name] = dock[score_name].map(lambda x: cast_to_float(x) )  # cast scores to float\n",
    "dock = dock[ dock[score_name].notna() ].reset_index(drop=True)  # drop non-float"
   ]
  },
  {
   "cell_type": "code",
   "execution_count": 6,
   "metadata": {},
   "outputs": [
    {
     "data": {
      "image/png": "[encoded data removed]",
      "text/plain": [
       "<Figure size 432x288 with 1 Axes>"
      ]
     },
     "metadata": {
      "needs_background": "light"
     },
     "output_type": "display_data"
    }
   ],
   "source": [
    "plot_hist_dock_scores(dock, subdir_name='all.raw', scoring_func='Chemgauss4')"
   ]
  },
  {
   "cell_type": "code",
   "execution_count": 7,
   "metadata": {},
   "outputs": [],
   "source": [
    "# Convert and bound scores to >=0\n",
    "dock[score_name] = abs( np.clip(dock[score_name], a_min=None, a_max=0) )"
   ]
  },
  {
   "cell_type": "code",
   "execution_count": 8,
   "metadata": {},
   "outputs": [
    {
     "data": {
      "image/png": "[encoded data removed]",
      "text/plain": [
       "<Figure size 432x288 with 1 Axes>"
      ]
     },
     "metadata": {
      "needs_background": "light"
     },
     "output_type": "display_data"
    }
   ],
   "source": [
    "plot_hist_dock_scores(dock, subdir_name='all.transformed', scoring_func=scoring_func)"
   ]
  },
  {
   "cell_type": "code",
   "execution_count": null,
   "metadata": {},
   "outputs": [],
   "source": []
  },
  {
   "cell_type": "code",
   "execution_count": 24,
   "metadata": {},
   "outputs": [],
   "source": [
    "# ----------------------------------\n",
    "#    Sampling\n",
    "# ----------------------------------\n",
    "# Sample the scores\n",
    "# n_samples = 100000  # 100K\n",
    "n_samples = 1000000  # 1M\n",
    "n_top = 10000\n",
    "# flatten = True\n",
    "flatten = False"
   ]
  },
  {
   "cell_type": "code",
   "execution_count": 25,
   "metadata": {},
   "outputs": [
    {
     "name": "stdout",
     "output_type": "stream",
     "text": [
      "(10000, 4)\n",
      "(6099327, 4)\n"
     ]
    }
   ],
   "source": [
    "n_bot = n_samples - n_top\n",
    "\n",
    "aa = dock.copy()\n",
    "aa = aa.sort_values('reg', ascending=False).reset_index(drop=True)\n",
    "df_top = aa[:n_top].reset_index(drop=True)  # e.g. 100K\n",
    "df_rest = aa[n_top:].reset_index(drop=True)\n",
    "\n",
    "print(df_top.shape)\n",
    "print(df_rest.shape)"
   ]
  },
  {
   "cell_type": "code",
   "execution_count": 26,
   "metadata": {},
   "outputs": [],
   "source": [
    "if flatten:\n",
    "    df_bot = flatten_dist(df=df_rest, n=n_bot, score_name=score_name)\n",
    "else:\n",
    "    df_bot = df_rest.sample(n=n_bot, replace=False)"
   ]
  },
  {
   "cell_type": "code",
   "execution_count": 27,
   "metadata": {},
   "outputs": [],
   "source": [
    "assert df_top.shape[1] == df_bot.shape[1], 'Num cols must be the same when concat.'\n",
    "aa = pd.concat([df_top, df_bot], axis=0).reset_index(drop=True)"
   ]
  },
  {
   "cell_type": "code",
   "execution_count": 28,
   "metadata": {},
   "outputs": [
    {
     "data": {
      "image/png": "[encoded data removed]",
      "text/plain": [
       "<Figure size 432x288 with 1 Axes>"
      ]
     },
     "metadata": {
      "needs_background": "light"
     },
     "output_type": "display_data"
    }
   ],
   "source": [
    "# Plot histogram of sampled scores\n",
    "flatten_str = 'flatten' if flatten else 'random'\n",
    "n_samples_str = '100K' if n_samples == 100000 else '1M'\n",
    "outfigs_dir = outfigs/f'sampled.transformed.{n_samples_str}.{flatten_str}'\n",
    "\n",
    "os.makedirs(outfigs_dir, exist_ok=True)\n",
    "fig, ax = plt.subplots()\n",
    "ax.hist(df_top[score_name], bins=100, facecolor='r', alpha=0.7, label='Top 10K Docking Ligands');\n",
    "ax.hist(df_bot[score_name], bins=100, facecolor='b', alpha=0.7, label=f'Other Ligands ({flatten_str})');\n",
    "ax.set_xlabel(f'Docking Score ({scoring_func})')\n",
    "ax.set_ylabel('Count')\n",
    "plt.grid(True)\n",
    "plt.legend(loc='best', framealpha=0.5)\n",
    "plt.title(f'sampled.transformed; Samples {n_samples}; n_top {n_top}')\n",
    "plt.savefig(outfigs_dir/f'dock.dist.{trg_name}.png', dpi=150)"
   ]
  },
  {
   "cell_type": "code",
   "execution_count": null,
   "metadata": {},
   "outputs": [],
   "source": []
  },
  {
   "cell_type": "code",
   "execution_count": null,
   "metadata": {},
   "outputs": [],
   "source": []
  }
 ],
 "metadata": {
  "kernelspec": {
   "display_name": "Python 3",
   "language": "python",
   "name": "python3"
  },
  "language_info": {
   "codemirror_mode": {
    "name": "ipython",
    "version": 3
   },
   "file_extension": ".py",
   "mimetype": "text/x-python",
   "name": "python",
   "nbconvert_exporter": "python",
   "pygments_lexer": "ipython3",
   "version": "3.6.10"
  }
 },
 "nbformat": 4,
 "nbformat_minor": 4
}
